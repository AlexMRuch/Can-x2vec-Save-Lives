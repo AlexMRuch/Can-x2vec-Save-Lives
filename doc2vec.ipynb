{
 "cells": [
  {
   "cell_type": "markdown",
   "metadata": {},
   "source": [
    "# Doc2vec Analysis of Submissions\n",
    "#### This notebook extracts the DBOW and DM Doc2Vec embeddings for submissions and subreddits and finds SuicideWatch's nearest neighbors in both models"
   ]
  },
  {
   "cell_type": "markdown",
   "metadata": {},
   "source": [
    "## *Setup*"
   ]
  },
  {
   "cell_type": "markdown",
   "metadata": {},
   "source": [
    "### Import dependencies"
   ]
  },
  {
   "cell_type": "code",
   "execution_count": 1,
   "metadata": {},
   "outputs": [],
   "source": [
    "import gensim\n",
    "import numpy as np\n",
    "import pandas as pd\n",
    "import collections\n",
    "from operator import itemgetter\n",
    "from scipy.spatial.distance import cosine as cosine_distance\n",
    "import time\n",
    "import datetime\n",
    "import gc"
   ]
  },
  {
   "cell_type": "markdown",
   "metadata": {},
   "source": [
    "### Import data"
   ]
  },
  {
   "cell_type": "code",
   "execution_count": 2,
   "metadata": {},
   "outputs": [],
   "source": [
    "datasource = \"/media/seagate0/reddit/samples/\"\n",
    "filesource = \"sample_main_50elsm_data_prep.csv\"\n",
    "filepath = datasource+filesource"
   ]
  },
  {
   "cell_type": "code",
   "execution_count": 3,
   "metadata": {},
   "outputs": [
    {
     "name": "stdout",
     "output_type": "stream",
     "text": [
      "CPU times: user 15.2 s, sys: 1 s, total: 16.2 s\n",
      "Wall time: 16.2 s\n"
     ]
    }
   ],
   "source": [
    "%%time\n",
    "data = pd.read_csv(filepath)\n",
    "data.dropna(inplace=True)\n",
    "data.shape"
   ]
  },
  {
   "cell_type": "code",
   "execution_count": null,
   "metadata": {},
   "outputs": [],
   "source": [
    "data.head()"
   ]
  },
  {
   "cell_type": "markdown",
   "metadata": {},
   "source": [
    "### Prepare data for embedding (skip below if already trained/saved)"
   ]
  },
  {
   "cell_type": "code",
   "execution_count": null,
   "metadata": {},
   "outputs": [],
   "source": [
    "# Print example of tokenized submission\n",
    "print(data.iloc[0][\"text_prep\"].split()[:20])\n",
    "print(data.iloc[0][\"submission_id\"])\n",
    "print(data.iloc[0][\"subreddit\"])"
   ]
  },
  {
   "cell_type": "code",
   "execution_count": 6,
   "metadata": {},
   "outputs": [],
   "source": [
    "# Define function to convert text and tags into a doc2vec TaggedDocument object\n",
    "def read_corpus(data=data, tokens_only=False):\n",
    "    print(\"Processing data into doc2vec TaggedDocument object...\")\n",
    "    print('  Timestamp: {}'.format(datetime.datetime.time(datetime.datetime.now())))\n",
    "    time_start = round(time.time())\n",
    "    data_len = data.shape[0]\n",
    "    for i,line in data.iterrows():\n",
    "        if i == 1000:\n",
    "            time_check = round(time.time()-time_start)\n",
    "            print(\"  {}s: Processing line {} of {}...\".format(time_check,i,data_len))\n",
    "        if i == 10000:\n",
    "            time_check = round(time.time()-time_start)\n",
    "            print(\"  {}s: Processing line {} of {}...\".format(time_check,i,data_len))\n",
    "        if i%100000 == 0:\n",
    "            time_check = round(time.time()-time_start)\n",
    "            print(\"  {}s: Processing line {} of {}...\".format(time_check,i,data_len))\n",
    "        try:\n",
    "            tokens = line[\"text_prep\"].split()\n",
    "        except:\n",
    "            print(\"  Error at line {}:\\n{}\".format(i,line))\n",
    "        if tokens_only:\n",
    "            try:\n",
    "                yield tokens\n",
    "            except:\n",
    "                print(\"  Error at line {}:\\n{}\".format(i,line))\n",
    "        else:\n",
    "            # For training data, add tags\n",
    "            try:\n",
    "                subm_id = line[\"submission_id\"]\n",
    "                subr_id = line[\"subreddit\"]\n",
    "                yield gensim.models.doc2vec.TaggedDocument(tokens, [subm_id,subr_id])\n",
    "            except:\n",
    "                print(\"  Error at line {}:\\n{}\".format(i,line))\n",
    "    print(\"Finished processing data into doc2vec TaggedDocument object\")\n",
    "    print('  Timestamp: {}'.format(datetime.datetime.time(datetime.datetime.now())))"
   ]
  },
  {
   "cell_type": "code",
   "execution_count": 9,
   "metadata": {},
   "outputs": [
    {
     "name": "stdout",
     "output_type": "stream",
     "text": [
      "Processing data into doc2vec TaggedDocument object...\n",
      "  Timestamp: 14:22:04.354651\n",
      "  1s: Processing line 0 of 1200579...\n",
      "  1s: Processing line 1000 of 1200579...\n",
      "  2s: Processing line 10000 of 1200579...\n",
      "  11s: Processing line 100000 of 1200579...\n",
      "  23s: Processing line 200000 of 1200579...\n",
      "  33s: Processing line 300000 of 1200579...\n",
      "  44s: Processing line 400000 of 1200579...\n",
      "  56s: Processing line 500000 of 1200579...\n",
      "  68s: Processing line 600000 of 1200579...\n",
      "  81s: Processing line 700000 of 1200579...\n",
      "  91s: Processing line 800000 of 1200579...\n",
      "  105s: Processing line 900000 of 1200579...\n",
      "  114s: Processing line 1000000 of 1200579...\n",
      "  129s: Processing line 1100000 of 1200579...\n",
      "  138s: Processing line 1200000 of 1200579...\n",
      "Finished processing data into doc2vec TaggedDocument object\n",
      "  Timestamp: 14:24:22.490976\n",
      "CPU times: user 2min 12s, sys: 5.91 s, total: 2min 18s\n",
      "Wall time: 2min 18s\n"
     ]
    }
   ],
   "source": [
    "%%time\n",
    "# Convert text and tags into train and test doc2vec TaggedDocument objects\n",
    "corpus_train = list(read_corpus(data, tokens_only=False))\n",
    "#corpus_test = list(read_corpus(data[:100], tokens_only=True))"
   ]
  },
  {
   "cell_type": "code",
   "execution_count": null,
   "metadata": {},
   "outputs": [],
   "source": [
    "# Inspect training TaggedDocument object\n",
    "corpus_train[0]"
   ]
  },
  {
   "cell_type": "code",
   "execution_count": null,
   "metadata": {},
   "outputs": [],
   "source": [
    "# Inspect testing TaggedDocument object\n",
    "print(corpus_test[:2])"
   ]
  },
  {
   "cell_type": "markdown",
   "metadata": {},
   "source": [
    "## *Training*"
   ]
  },
  {
   "cell_type": "markdown",
   "metadata": {},
   "source": [
    "### Instantiate doc2vec object and vocabulary -- DMM"
   ]
  },
  {
   "cell_type": "code",
   "execution_count": 11,
   "metadata": {},
   "outputs": [
    {
     "name": "stdout",
     "output_type": "stream",
     "text": [
      "Doc2Vec(dm/m,d50,n5,w10,mc2,s0.001,t32)\n"
     ]
    }
   ],
   "source": [
    "model_dmm = gensim.models.doc2vec.Doc2Vec(\n",
    "    dm=1,\n",
    "    dm_concat=0,\n",
    "    dm_mean=1,\n",
    "    vector_size=50,\n",
    "    window=10,\n",
    "    min_count=2,\n",
    "    negative=5,\n",
    "    epochs=40,\n",
    "    workers=32\n",
    ")\n",
    "print(model_dmm)"
   ]
  },
  {
   "cell_type": "code",
   "execution_count": 12,
   "metadata": {},
   "outputs": [
    {
     "name": "stdout",
     "output_type": "stream",
     "text": [
      "CPU times: user 1min 44s, sys: 353 ms, total: 1min 44s\n",
      "Wall time: 1min 44s\n"
     ]
    }
   ],
   "source": [
    "%%time\n",
    "model_dmm.build_vocab(corpus_train)"
   ]
  },
  {
   "cell_type": "markdown",
   "metadata": {},
   "source": [
    "### Train the doc2vec model"
   ]
  },
  {
   "cell_type": "code",
   "execution_count": 13,
   "metadata": {},
   "outputs": [
    {
     "name": "stdout",
     "output_type": "stream",
     "text": [
      "CPU times: user 15h 40min 54s, sys: 23min 49s, total: 16h 4min 44s\n",
      "Wall time: 4h 47min 10s\n"
     ]
    }
   ],
   "source": [
    "%%time\n",
    "model_dmm.train(corpus_train, total_examples=model_dmm.corpus_count, epochs=model_dmm.epochs)"
   ]
  },
  {
   "cell_type": "markdown",
   "metadata": {},
   "source": [
    "### Infer a vector"
   ]
  },
  {
   "cell_type": "code",
   "execution_count": 71,
   "metadata": {},
   "outputs": [
    {
     "name": "stdout",
     "output_type": "stream",
     "text": [
      "shape: (50,)\n"
     ]
    },
    {
     "data": {
      "text/plain": [
       "array([-0.16079564,  0.07370246, -0.12908716, -0.27815023,  0.09495931,\n",
       "       -0.05440789, -0.05641905,  0.2553274 , -0.10173523,  0.16145292,\n",
       "       -0.05058431,  0.12746558,  0.1476429 , -0.19527781, -0.00107579,\n",
       "       -0.02528723,  0.08655364, -0.01832677, -0.08826234, -0.13473023,\n",
       "        0.00883819, -0.10091036, -0.19562408,  0.35356927,  0.19241996,\n",
       "       -0.13329263, -0.16932149,  0.05248863,  0.01157821,  0.11397031,\n",
       "       -0.12884852,  0.11231311, -0.08106791,  0.0162975 , -0.02429766,\n",
       "       -0.1850096 , -0.09072895,  0.02642971, -0.12796813, -0.20217827,\n",
       "       -0.01417279, -0.02537065,  0.01768991, -0.05502219, -0.15525669,\n",
       "        0.08895854, -0.02833021, -0.17687939,  0.20146425, -0.01183373],\n",
       "      dtype=float32)"
      ]
     },
     "execution_count": 71,
     "metadata": {},
     "output_type": "execute_result"
    }
   ],
   "source": [
    "test_doc = \"I do n't care about my family anymore . I know they love me . I know they 'll suffer a lot if i kill myself , but i just dont care anymore .\".lower().split()\n",
    "test_doc_dmm = model_dmm.infer_vector(test_doc, steps=200, alpha=0.025)\n",
    "print(\"shape:\", test_doc_dmm.shape)\n",
    "test_doc_dmm"
   ]
  },
  {
   "cell_type": "markdown",
   "metadata": {},
   "source": [
    "### Save model"
   ]
  },
  {
   "cell_type": "code",
   "execution_count": 15,
   "metadata": {},
   "outputs": [
    {
     "name": "stdout",
     "output_type": "stream",
     "text": [
      "Saved model\n"
     ]
    }
   ],
   "source": [
    "model_dmm.save(\"/media/seagate0/reddit/models/doc2vec_dmm50_sample_main_50elsm.model\")\n",
    "print(\"Saved model\")"
   ]
  },
  {
   "cell_type": "markdown",
   "metadata": {},
   "source": [
    "### Instantiate doc2vec object and vocabulary -- DBOW"
   ]
  },
  {
   "cell_type": "code",
   "execution_count": 16,
   "metadata": {},
   "outputs": [
    {
     "name": "stdout",
     "output_type": "stream",
     "text": [
      "Doc2Vec(dbow,d50,n5,mc2,s0.001,t32)\n"
     ]
    }
   ],
   "source": [
    "model_dbow = gensim.models.doc2vec.Doc2Vec(\n",
    "    dm=0,\n",
    "    dbow_words=0,  #do not train word vectors\n",
    "    dm_concat=0,\n",
    "    dm_mean=1,\n",
    "    vector_size=50,\n",
    "    window=10,\n",
    "    min_count=2,\n",
    "    negative=5,\n",
    "    epochs=40,\n",
    "    workers=32\n",
    ")\n",
    "print(model_dbow)"
   ]
  },
  {
   "cell_type": "code",
   "execution_count": 17,
   "metadata": {},
   "outputs": [
    {
     "name": "stdout",
     "output_type": "stream",
     "text": [
      "CPU times: user 1min 31s, sys: 213 ms, total: 1min 31s\n",
      "Wall time: 1min 31s\n"
     ]
    }
   ],
   "source": [
    "%%time\n",
    "model_dbow.build_vocab(corpus_train)"
   ]
  },
  {
   "cell_type": "markdown",
   "metadata": {},
   "source": [
    "### Train the doc2vec model"
   ]
  },
  {
   "cell_type": "code",
   "execution_count": 18,
   "metadata": {},
   "outputs": [
    {
     "name": "stdout",
     "output_type": "stream",
     "text": [
      "CPU times: user 16h 56min 43s, sys: 6min 38s, total: 17h 3min 21s\n",
      "Wall time: 3h 17min 17s\n"
     ]
    }
   ],
   "source": [
    "%%time\n",
    "model_dbow.train(corpus_train, total_examples=model_dbow.corpus_count, epochs=model_dbow.epochs)"
   ]
  },
  {
   "cell_type": "markdown",
   "metadata": {},
   "source": [
    "### Infer a vector"
   ]
  },
  {
   "cell_type": "code",
   "execution_count": 70,
   "metadata": {},
   "outputs": [
    {
     "name": "stdout",
     "output_type": "stream",
     "text": [
      "shape: (50,)\n"
     ]
    },
    {
     "data": {
      "text/plain": [
       "array([-0.12393504,  0.08245785, -0.20959017,  0.09498589,  0.04521151,\n",
       "       -0.37901607,  0.18479787,  0.08828386, -0.06929699, -0.16781302,\n",
       "        0.04701287, -0.05489627,  0.2943915 ,  0.10640723,  0.24301195,\n",
       "       -0.30618152, -0.01532197, -0.1786422 , -0.02829616,  0.05098295,\n",
       "        0.24090727, -0.38026774, -0.18207112, -0.0344217 , -0.19350582,\n",
       "        0.14370978, -0.04678387,  0.17149614, -0.00754963,  0.23412168,\n",
       "       -0.08593183, -0.16377133,  0.04720971,  0.08139323, -0.00694396,\n",
       "       -0.33116597,  0.20933862,  0.07564811, -0.13462025, -0.00746284,\n",
       "       -0.05642885, -0.22911847, -0.1206275 ,  0.24879058,  0.13675421,\n",
       "       -0.11179908,  0.28212434,  0.06215185, -0.14156468,  0.03243285],\n",
       "      dtype=float32)"
      ]
     },
     "execution_count": 70,
     "metadata": {},
     "output_type": "execute_result"
    }
   ],
   "source": [
    "test_doc_dbow = model_dbow.infer_vector(test_doc, steps=200, alpha=0.025)\n",
    "print(\"shape:\", test_doc_dbow.shape)\n",
    "test_doc_dbow"
   ]
  },
  {
   "cell_type": "markdown",
   "metadata": {},
   "source": [
    "### Save model"
   ]
  },
  {
   "cell_type": "code",
   "execution_count": 20,
   "metadata": {},
   "outputs": [
    {
     "name": "stdout",
     "output_type": "stream",
     "text": [
      "Saved model\n"
     ]
    }
   ],
   "source": [
    "model_dbow.save(\"/media/seagate0/reddit/models/doc2vec_dbow50_sample_main_50elsm.model\")\n",
    "print(\"Saved model\")"
   ]
  },
  {
   "cell_type": "markdown",
   "metadata": {},
   "source": [
    "## *Evaluating*"
   ]
  },
  {
   "cell_type": "markdown",
   "metadata": {},
   "source": [
    "### Load models (if already saved)"
   ]
  },
  {
   "cell_type": "code",
   "execution_count": 27,
   "metadata": {},
   "outputs": [
    {
     "name": "stdout",
     "output_type": "stream",
     "text": [
      "Loaded model: Doc2Vec(dm/m,d50,n5,w10,mc2,s0.001,t32)\n"
     ]
    }
   ],
   "source": [
    "model_dmm = gensim.models.doc2vec.Doc2Vec.load(\"/media/seagate0/reddit/models/doc2vec_dmm50_sample_main_50elsm.model\")\n",
    "print(\"Loaded model:\", model_dmm)"
   ]
  },
  {
   "cell_type": "code",
   "execution_count": 5,
   "metadata": {},
   "outputs": [
    {
     "name": "stdout",
     "output_type": "stream",
     "text": [
      "Loaded model: Doc2Vec(dbow,d50,n5,mc2,s0.001,t32)\n"
     ]
    }
   ],
   "source": [
    "model_dbow = gensim.models.doc2vec.Doc2Vec.load(\"/media/seagate0/reddit/models/doc2vec_dbow50_sample_main_50elsm.model\")\n",
    "print(\"Loaded model:\", model_dbow)"
   ]
  },
  {
   "cell_type": "markdown",
   "metadata": {},
   "source": [
    "### Combine DMM & DBOW (only need for prediction tasks)"
   ]
  },
  {
   "cell_type": "code",
   "execution_count": 21,
   "metadata": {},
   "outputs": [],
   "source": [
    "from gensim.test.test_doc2vec import ConcatenatedDoc2Vec\n",
    "model_combo = ConcatenatedDoc2Vec([model_dmm, model_dbow])"
   ]
  },
  {
   "cell_type": "code",
   "execution_count": 72,
   "metadata": {},
   "outputs": [
    {
     "name": "stdout",
     "output_type": "stream",
     "text": [
      "shape: (100,)\n"
     ]
    },
    {
     "data": {
      "text/plain": [
       "array([-0.17788772,  0.06824362, -0.14447175, -0.37007782,  0.0455959 ,\n",
       "       -0.08171896, -0.09022342,  0.29001012, -0.1611098 ,  0.13808334,\n",
       "       -0.00350697,  0.08476301,  0.16170874, -0.16469066,  0.0363806 ,\n",
       "       -0.05345469,  0.05140643, -0.05005645, -0.14914726, -0.12469329,\n",
       "        0.07484219, -0.11463426, -0.13967685,  0.36009094,  0.05566248,\n",
       "       -0.13267234, -0.17218304,  0.07263025, -0.0202819 ,  0.15231906,\n",
       "       -0.17784648,  0.02100503, -0.18189642,  0.07895544, -0.06447177,\n",
       "       -0.18338837, -0.08714453,  0.03098639, -0.13841623, -0.17454165,\n",
       "        0.070465  ,  0.01505003,  0.05237506, -0.02842668, -0.19627875,\n",
       "        0.12319263,  0.05189837, -0.1270181 ,  0.21594492, -0.07609142,\n",
       "       -0.11423831,  0.09388574, -0.20183271,  0.17691752,  0.03234727,\n",
       "       -0.3304911 ,  0.22366333,  0.08581357, -0.05267319, -0.10281381,\n",
       "       -0.06877119, -0.05021801,  0.3093455 ,  0.09015313,  0.21809936,\n",
       "       -0.25132445, -0.06733897, -0.14863732,  0.05652968,  0.07332958,\n",
       "        0.2123777 , -0.42288324, -0.18318479, -0.04314225, -0.18336816,\n",
       "        0.21195169,  0.03132306,  0.25109956, -0.03406508,  0.271875  ,\n",
       "       -0.07068671, -0.10861343,  0.06668731,  0.07678143, -0.02076983,\n",
       "       -0.32016855,  0.2395098 ,  0.09709077, -0.11575226, -0.00491084,\n",
       "       -0.06842912, -0.21067917, -0.11069975,  0.27098423,  0.14868946,\n",
       "       -0.01055762,  0.24733184, -0.01279827, -0.20918025, -0.01495875],\n",
       "      dtype=float32)"
      ]
     },
     "execution_count": 72,
     "metadata": {},
     "output_type": "execute_result"
    }
   ],
   "source": [
    "test_doc_combo = model_combo.infer_vector(test_doc, steps=200, alpha=0.025)\n",
    "print(\"shape:\", test_doc_combo.shape)\n",
    "test_doc_combo"
   ]
  },
  {
   "cell_type": "markdown",
   "metadata": {},
   "source": [
    "### Evaluate models"
   ]
  },
  {
   "cell_type": "code",
   "execution_count": 74,
   "metadata": {},
   "outputs": [
    {
     "name": "stdout",
     "output_type": "stream",
     "text": [
      "DMM vs DBOW: 0.9307567030191422\n"
     ]
    }
   ],
   "source": [
    "# Compare the similarities of test_doc between models\n",
    "print(\"DMM vs DBOW:\", cosine_distance(test_doc_dmm, test_doc_dbow))"
   ]
  },
  {
   "cell_type": "code",
   "execution_count": 75,
   "metadata": {},
   "outputs": [
    {
     "name": "stdout",
     "output_type": "stream",
     "text": [
      "Evaluating Doc2Vec(dm/m,d50,n5,w10,mc2,s0.001,t32)\n",
      "  Evaluating doc_id 0\n",
      "  Evaluating doc_id 20\n",
      "  Evaluating doc_id 40\n",
      "  Evaluating doc_id 60\n",
      "  Evaluating doc_id 80\n",
      "Doc2Vec(dm/m,d50,n5,w10,mc2,s0.001,t32) --> [(0, 2), (11, 1), (31, 1), (480, 1), (613, 1), (898, 1), (1188, 1), (1397, 1), (4688, 1), (5173, 1), (5815, 1), (5899, 1), (7145, 1), (8596, 1), (13098, 1), (18784, 1), (20792, 1), (22351, 1), (22705, 1), (26195, 1), (26399, 1), (28464, 1), (30144, 1), (31574, 1), (34297, 1), (35001, 1), (35776, 1), (38311, 1), (39520, 1), (39814, 1), (42678, 1), (45249, 1), (47348, 1), (48991, 1), (50274, 1), (51826, 1), (54649, 1), (55083, 1), (56472, 1), (56948, 1), (57073, 1), (58252, 1), (59496, 1), (61326, 1), (62491, 1), (64481, 1), (65212, 1), (67194, 1), (71521, 1), (72853, 1), (75917, 1), (77070, 1), (77294, 1), (77589, 1), (77983, 1), (79765, 1), (80490, 1), (82820, 1), (82946, 1), (82973, 1), (85065, 1), (85235, 1), (86527, 1), (87289, 1), (87511, 1), (88470, 1), (90641, 1), (91363, 1), (92040, 1), (93054, 1), (99141, 1), (100256, 1), (107154, 1), (107312, 1), (108849, 1), (117197, 1), (118185, 1), (118433, 1), (127327, 1), (137685, 1), (158986, 1), (170217, 1), (171108, 1), (174122, 1), (184250, 1), (199578, 1), (206936, 1), (218497, 1), (232831, 1), (237760, 1), (281666, 1), (282074, 1), (307201, 1), (346353, 1), (382002, 1), (500041, 1), (504899, 1), (541014, 1), (547455, 1)]\n",
      "Evaluating Doc2Vec(dbow,d50,n5,mc2,s0.001,t32)\n",
      "  Evaluating doc_id 0\n",
      "  Evaluating doc_id 20\n",
      "  Evaluating doc_id 40\n",
      "  Evaluating doc_id 60\n",
      "  Evaluating doc_id 80\n",
      "Doc2Vec(dbow,d50,n5,mc2,s0.001,t32) --> [(0, 97), (2, 2), (15, 1)]\n",
      "CPU times: user 15min 9s, sys: 6min 25s, total: 21min 34s\n",
      "Wall time: 12min 50s\n"
     ]
    }
   ],
   "source": [
    "%%time\n",
    "# Compare how often inferred vectors for docs are in the most similar learned vectors\n",
    "#    See github.com/RaRe-Technologies/gensim/blob/develop/docs/notebooks/doc2vec-lee.ipynb\n",
    "for model in [model_dmm, model_dbow]:\n",
    "    print(\"Evaluating\", str(model))\n",
    "    ranks = []\n",
    "    second_ranks = []\n",
    "    for doc_id in range(100):\n",
    "        if doc_id % 20 == 0:\n",
    "            print(\"  Evaluating doc_id\", doc_id)\n",
    "        doc_tag = corpus_train[doc_id].tags[0]\n",
    "        iv = model.infer_vector(corpus_train[doc_id].words, steps=200, alpha=0.025)\n",
    "        sims = model.docvecs.most_similar([iv], topn=len(model.docvecs))\n",
    "        rank = [docid for docid, sim in sims].index(doc_tag)\n",
    "        ranks.append(rank)\n",
    "        second_ranks.append(sims[1])\n",
    "    print(str(model), \"-->\", sorted(collections.Counter(ranks).items(), key=itemgetter(0)))"
   ]
  },
  {
   "cell_type": "code",
   "execution_count": 32,
   "metadata": {},
   "outputs": [
    {
     "data": {
      "text/plain": [
       "[('depression', 0.9886905550956726),\n",
       " ('depressed', 0.9801347255706787),\n",
       " ('depression_help', 0.9759532809257507),\n",
       " ('Suicide_help', 0.9659072756767273),\n",
       " ('getting_over_it', 0.9646139144897461),\n",
       " ('Prevent_Suicide', 0.9627123475074768),\n",
       " ('mentalhealth', 0.9618516564369202),\n",
       " ('sad', 0.9572824835777283),\n",
       " ('MMFB', 0.9571409225463867),\n",
       " ('SanctionedSuicide', 0.949762225151062),\n",
       " ('venting', 0.9487173557281494),\n",
       " ('suicidenotes', 0.9485184550285339),\n",
       " ('mentalillness', 0.945374608039856),\n",
       " ('ptsd', 0.9435155987739563),\n",
       " ('BPD', 0.9409050941467285),\n",
       " ('MyLittleSupportGroup', 0.9379068613052368),\n",
       " ('suicidalthoughts', 0.935742974281311),\n",
       " ('selfhelp', 0.9357046484947205),\n",
       " ('whatsbotheringyou', 0.9351156949996948),\n",
       " ('MomForAMinute', 0.9350012540817261)]"
      ]
     },
     "execution_count": 32,
     "metadata": {},
     "output_type": "execute_result"
    }
   ],
   "source": [
    "# Print the 20 most similar dmm doctags to SuicideWatch\n",
    "model_dmm.docvecs.most_similar(positive=['SuicideWatch'], topn=20)"
   ]
  },
  {
   "cell_type": "code",
   "execution_count": 6,
   "metadata": {},
   "outputs": [
    {
     "data": {
      "text/plain": [
       "[('depression', 0.9595265984535217),\n",
       " ('MMFB', 0.9271743297576904),\n",
       " ('depression_help', 0.9236374497413635),\n",
       " ('whatsbotheringyou', 0.9202948212623596),\n",
       " ('depressed', 0.9156358242034912),\n",
       " ('Suicide_help', 0.9130778312683105),\n",
       " ('sad', 0.9110236763954163),\n",
       " ('suicidenotes', 0.9109750986099243),\n",
       " ('offmychest', 0.9064748883247375),\n",
       " ('SanctionedSuicide', 0.9048740267753601),\n",
       " ('getting_over_it', 0.9028440713882446),\n",
       " ('venting', 0.8982775807380676),\n",
       " ('mentalhealth', 0.8886355757713318),\n",
       " ('selfhelp', 0.8877691626548767),\n",
       " ('Vent', 0.8870785236358643),\n",
       " ('MomForAMinute', 0.8847565054893494),\n",
       " ('helpmecope', 0.8794957995414734),\n",
       " ('mentalillness', 0.876664936542511),\n",
       " ('MyLittleSupportGroup', 0.8710669875144958),\n",
       " ('needadvice', 0.8694227337837219)]"
      ]
     },
     "execution_count": 6,
     "metadata": {},
     "output_type": "execute_result"
    }
   ],
   "source": [
    "# Print the 20 most similar dbow doctags to SuicideWatch\n",
    "model_dbow.docvecs.most_similar(positive=['SuicideWatch'], topn=20)"
   ]
  },
  {
   "cell_type": "code",
   "execution_count": null,
   "metadata": {},
   "outputs": [],
   "source": [
    "# Compare similarity between SuicideWatch and first submission\n",
    "print(\"1st subm (non-SW):\", str(data[data[\"submission_id\"] == \"10009b\"][\"text_prep\"].values)[1:100], \"...\")\n",
    "print(\"  DMM sim between 1st subm and SW: \", model_dmm.docvecs.similarity(\"SuicideWatch\", \"10009b\"))\n",
    "print(\"  DBOW sim between 1st subm and SW:\", model_dbow.docvecs.similarity(\"SuicideWatch\", \"10009b\"))"
   ]
  },
  {
   "cell_type": "code",
   "execution_count": null,
   "metadata": {},
   "outputs": [],
   "source": [
    "sw_subms = data[data[\"subreddit\"] == \"SuicideWatch\"][:10][\"submission_id\"].values\n",
    "print(\"First 10 SuicideWatch submission ids:\", \" \".join(list(sw_subms)))\n",
    "for subm_idx in sw_subms:\n",
    "    print(\"--------------------\")\n",
    "    print(\n",
    "        subm_idx,\n",
    "        str(data[data[\"submission_id\"] == subm_idx][\"text_prep\"].values)[:250]\n",
    "    )"
   ]
  },
  {
   "cell_type": "code",
   "execution_count": 79,
   "metadata": {},
   "outputs": [
    {
     "name": "stdout",
     "output_type": "stream",
     "text": [
      "DMM evals...\n",
      "Similarity between 100wft and SW: 0.19290207641774065\n",
      "              ... vs. depression: 0.20347020772973845\n",
      "                ... vs. selfhelp: 0.2778982650424426\n",
      "Similarity between 101z2w and SW: -0.09868440731064658\n",
      "              ... vs. depression: -0.1271077981994744\n",
      "                ... vs. selfhelp: -0.10599970355361828\n",
      "Similarity between 102igs and SW: -0.02867933409854646\n",
      "              ... vs. depression: -0.06243201521785505\n",
      "                ... vs. selfhelp: -0.008436968226964738\n",
      "Similarity between 10314t and SW: 0.35937798778025076\n",
      "              ... vs. depression: 0.3191908527418925\n",
      "                ... vs. selfhelp: 0.28700990471981713\n",
      "Similarity between 1032pn and SW: -0.14940028491681395\n",
      "              ... vs. depression: -0.1761693342759036\n",
      "                ... vs. selfhelp: -0.24748740416381787\n",
      "Similarity between 103k4o and SW: 0.11575966796116124\n",
      "              ... vs. depression: 0.15229752182586315\n",
      "                ... vs. selfhelp: 0.1992856629211117\n",
      "Similarity between 103ob2 and SW: -0.07701837749213761\n",
      "              ... vs. depression: -0.0681082280924512\n",
      "                ... vs. selfhelp: -0.02996199868496582\n",
      "Similarity between 1053t3 and SW: 0.12499299343602675\n",
      "              ... vs. depression: 0.114894933128226\n",
      "                ... vs. selfhelp: 0.11620236222314739\n",
      "Similarity between 105zh8 and SW: -0.07229642380020804\n",
      "              ... vs. depression: -0.05268826161507866\n",
      "                ... vs. selfhelp: -0.02736733159099037\n",
      "Similarity between 1078bp and SW: -0.029270583389052827\n",
      "              ... vs. depression: -0.027954813314486418\n",
      "                ... vs. selfhelp: 0.020187108790079924\n",
      "---------\n",
      "DBOW evals...\n",
      "Similarity between 100wft and SW: 0.6522481755784724\n",
      "              ... vs. depression: 0.6400242095224188\n",
      "                ... vs. selfhelp: 0.6131948966118431\n",
      "Similarity between 101z2w and SW: 0.6381896287829016\n",
      "              ... vs. depression: 0.5893801687271302\n",
      "                ... vs. selfhelp: 0.5896874179883448\n",
      "Similarity between 102igs and SW: 0.5890223903823663\n",
      "              ... vs. depression: 0.5321825507536474\n",
      "                ... vs. selfhelp: 0.5109009708032252\n",
      "Similarity between 10314t and SW: 0.6307171294572301\n",
      "              ... vs. depression: 0.5402206123720029\n",
      "                ... vs. selfhelp: 0.5225507992118551\n",
      "Similarity between 1032pn and SW: 0.508117871976297\n",
      "              ... vs. depression: 0.4631537592747796\n",
      "                ... vs. selfhelp: 0.39163303409888006\n",
      "Similarity between 103k4o and SW: 0.6270449329110473\n",
      "              ... vs. depression: 0.6119471852619406\n",
      "                ... vs. selfhelp: 0.605816397914738\n",
      "Similarity between 103ob2 and SW: 0.4954960096551688\n",
      "              ... vs. depression: 0.47980628786801305\n",
      "                ... vs. selfhelp: 0.4348115132288189\n",
      "Similarity between 1053t3 and SW: 0.6392213144097851\n",
      "              ... vs. depression: 0.6181720622691509\n",
      "                ... vs. selfhelp: 0.5410307863935623\n",
      "Similarity between 105zh8 and SW: 0.5924785644038019\n",
      "              ... vs. depression: 0.5816033980887362\n",
      "                ... vs. selfhelp: 0.6505365324656726\n",
      "Similarity between 1078bp and SW: 0.5279644403185773\n",
      "              ... vs. depression: 0.5050187637636072\n",
      "                ... vs. selfhelp: 0.497656128548796\n"
     ]
    }
   ],
   "source": [
    "# Compare SW submissions to SW with learned PV\n",
    "print(\"DMM evals...\")\n",
    "for idx in sw_subms:\n",
    "    print(\"Similarity between {} and SW: {}\".format(idx, model_dmm.docvecs.similarity(\"SuicideWatch\", idx)))\n",
    "    print(\"              ... vs. depression: {}\".format(model_dmm.docvecs.similarity(\"depression\", idx)))\n",
    "    print(\"                ... vs. selfhelp: {}\".format(model_dmm.docvecs.similarity(\"selfhelp\", idx)))\n",
    "print(\"---------\")\n",
    "print(\"DBOW evals...\")\n",
    "for idx in sw_subms:\n",
    "    print(\"Similarity between {} and SW: {}\".format(idx, model_dbow.docvecs.similarity(\"SuicideWatch\", idx)))\n",
    "    print(\"              ... vs. depression: {}\".format(model_dbow.docvecs.similarity(\"depression\", idx)))\n",
    "    print(\"                ... vs. selfhelp: {}\".format(model_dbow.docvecs.similarity(\"selfhelp\", idx)))"
   ]
  },
  {
   "cell_type": "code",
   "execution_count": 84,
   "metadata": {},
   "outputs": [
    {
     "name": "stdout",
     "output_type": "stream",
     "text": [
      "DMM  similarity between 100wft and SW: 0.5994322299957275\n",
      "DBOW similarity between 100wft and SW: 0.775780975818634\n",
      "DMM  similarity between 101z2w and SW: 0.5643561482429504\n",
      "DBOW similarity between 101z2w and SW: 0.7402441501617432\n",
      "DMM  similarity between 102igs and SW: 0.48693186044692993\n",
      "DBOW similarity between 102igs and SW: 0.7305420637130737\n",
      "DMM  similarity between 10314t and SW: 0.4699523448944092\n",
      "DBOW similarity between 10314t and SW: 0.8405201435089111\n",
      "DMM  similarity between 1032pn and SW: 0.433451384305954\n",
      "DBOW similarity between 1032pn and SW: 0.7198936939239502\n",
      "DMM  similarity between 103k4o and SW: 0.44383272528648376\n",
      "DBOW similarity between 103k4o and SW: 0.813504695892334\n",
      "DMM  similarity between 103ob2 and SW: 0.3849857449531555\n",
      "DBOW similarity between 103ob2 and SW: 0.7963464260101318\n",
      "DMM  similarity between 1053t3 and SW: 0.5498508810997009\n",
      "DBOW similarity between 1053t3 and SW: 0.7747808694839478\n",
      "DMM  similarity between 105zh8 and SW: 0.4453285336494446\n",
      "DBOW similarity between 105zh8 and SW: 0.7911317944526672\n",
      "DMM  similarity between 1078bp and SW: 0.41791078448295593\n",
      "DBOW similarity between 1078bp and SW: 0.8133584260940552\n"
     ]
    }
   ],
   "source": [
    "# Compare SW submissions to SW using inferred vectors\n",
    "sw_pv_dmm = model_dmm.docvecs[\"SuicideWatch\"]\n",
    "sw_pv_dbow = model_dbow.docvecs[\"SuicideWatch\"]\n",
    "for idx in sw_subms:\n",
    "    subm_iv_text = str(data[data[\"submission_id\"] == idx][\"text_prep\"].values)[2:-2].split()\n",
    "    subm_iv = model_dmm.infer_vector(subm_iv_text, steps=200, alpha=0.025)\n",
    "    print(\"DMM  similarity between {} and SW: {}\".format(idx, 1-cosine_distance(subm_iv, sw_pv_dmm)))\n",
    "    subm_iv = model_dbow.infer_vector(subm_iv_text, steps=200, alpha=0.025)\n",
    "    print(\"DBOW similarity between {} and SW: {}\".format(idx, 1-cosine_distance(subm_iv, sw_pv_dbow)))"
   ]
  },
  {
   "cell_type": "code",
   "execution_count": 87,
   "metadata": {},
   "outputs": [
    {
     "name": "stdout",
     "output_type": "stream",
     "text": [
      "Comparing Doc2Vec(dm/m,d50,n5,w10,mc2,s0.001,t32):\n",
      "  Gensim cosine distance estimate: 0.3848767234303422\n",
      "  Manual cosine distance estimate: 0.9439608454704285\n",
      "Comparing Doc2Vec(dbow,d50,n5,mc2,s0.001,t32):\n",
      "  Gensim cosine distance estimate: 0.5761921647955006\n",
      "  Manual cosine distance estimate: 0.8182548880577087\n"
     ]
    }
   ],
   "source": [
    "# Determine how similar gensim and scipy cosine distances are\n",
    "for model in [model_dmm, model_dbow]:\n",
    "    sw_1032pn = str(data[data[\"submission_id\"] == \"1032pn\"][\"text_prep\"].values)[2:-2].split()\n",
    "    sw_1032pn = model.infer_vector(sw_1032pn, steps=200, alpha=0.025)\n",
    "    sw_103ob2 = str(data[data[\"submission_id\"] == \"103ob2\"][\"text_prep\"].values)[2:-2].split()\n",
    "    sw_103ob2 = model.infer_vector(sw_103ob2, steps=200, alpha=0.025)\n",
    "    print(\"Comparing {}:\".format(str(model)))\n",
    "    print(\"  Gensim cosine distance estimate:\", model.docvecs.similarity(\"1032pn\", \"103ob2\"))\n",
    "    print(\"  Manual cosine distance estimate:\", 1-cosine_distance(sw_1032pn, sw_103ob2))"
   ]
  },
  {
   "cell_type": "markdown",
   "metadata": {},
   "source": [
    "## *Create new average doc vector for SuicideWatch*"
   ]
  },
  {
   "cell_type": "markdown",
   "metadata": {},
   "source": [
    "## *Calculate DBOW distance from each submission to SuicideWatch*"
   ]
  },
  {
   "cell_type": "code",
   "execution_count": 7,
   "metadata": {},
   "outputs": [],
   "source": [
    "# Define function to estimate similarities between submissions' PV and SW's PV\n",
    "def get_sw_sim(data=data, comparison=\"SuicideWatch\", model=model_dbow):\n",
    "    print(\"Estimating similarities to SW's PV...\")\n",
    "    print('  Timestamp: {}'.format(datetime.datetime.time(datetime.datetime.now())))\n",
    "    time_start = round(time.time())\n",
    "    # Get PV for SuicideWatch\n",
    "    sw_pv = model.docvecs[\"SuicideWatch\"]\n",
    "    data_len = data.shape[0]\n",
    "    # Estimate similarities\n",
    "    for i,line in data.iterrows():\n",
    "        if i == 100:\n",
    "            time_check = round(time.time()-time_start)\n",
    "            print(\"  {}s: Processing line {} of {}...\".format(time_check,i,data_len))\n",
    "        if i == 1000:\n",
    "            time_check = round(time.time()-time_start)\n",
    "            print(\"  {}s: Processing line {} of {}...\".format(time_check,i,data_len))\n",
    "        if i == 10000:\n",
    "            time_check = round(time.time()-time_start)\n",
    "            print(\"  {}s: Processing line {} of {}...\".format(time_check,i,data_len))\n",
    "        if i%100000 == 0:\n",
    "            time_check = round(time.time()-time_start)\n",
    "            print(\"  {}s: Processing line {} of {}...\".format(time_check,i,data_len))\n",
    "        # Get submission's tokens in list, infer vector, estimate cosine similarity\n",
    "        try:\n",
    "            subm_tokens = line[\"text_prep\"].split()\n",
    "            inferred_vec = model.infer_vector(subm_tokens, steps=200, alpha=0.025)\n",
    "            sw_sim = 1-cosine_distance(inferred_vec, sw_pv)\n",
    "            yield sw_sim\n",
    "        except:\n",
    "            print(\"  Error at line {}:\\n{}\".format(i,line))\n",
    "    print(\"Finished estimating similarities to SW\")\n",
    "    print('  Timestamp: {}'.format(datetime.datetime.time(datetime.datetime.now())))"
   ]
  },
  {
   "cell_type": "code",
   "execution_count": 8,
   "metadata": {},
   "outputs": [
    {
     "name": "stdout",
     "output_type": "stream",
     "text": [
      "Estimating similarities to SW's PV...\n",
      "  Timestamp: 11:01:15.618084\n",
      "  0s: Processing line 0 of 1200579...\n",
      "  5s: Processing line 100 of 1200579...\n",
      "  49s: Processing line 1000 of 1200579...\n",
      "  473s: Processing line 10000 of 1200579...\n",
      "  4953s: Processing line 100000 of 1200579...\n",
      "  10057s: Processing line 200000 of 1200579...\n",
      "  15284s: Processing line 300000 of 1200579...\n",
      "  20445s: Processing line 400000 of 1200579...\n",
      "  25777s: Processing line 500000 of 1200579...\n",
      "  31125s: Processing line 600000 of 1200579...\n",
      "  36508s: Processing line 700000 of 1200579...\n",
      "  41839s: Processing line 800000 of 1200579...\n",
      "  47174s: Processing line 900000 of 1200579...\n",
      "  52407s: Processing line 1000000 of 1200579...\n",
      "  57400s: Processing line 1100000 of 1200579...\n",
      "  62042s: Processing line 1200000 of 1200579...\n",
      "Finished estimating similarities to SW\n",
      "  Timestamp: 04:15:46.720666\n",
      "CPU times: user 17h 13min 41s, sys: 1.66 s, total: 17h 13min 43s\n",
      "Wall time: 17h 14min 31s\n"
     ]
    }
   ],
   "source": [
    "%%time\n",
    "# Get the dbow similarities for each submission\n",
    "sw_dist = list(get_sw_sim(data, \"SuicideWatch\", model_dbow))"
   ]
  },
  {
   "cell_type": "code",
   "execution_count": null,
   "metadata": {},
   "outputs": [],
   "source": [
    "# Add the dbow similarities to the dataframe\n",
    "data[\"sw_dist\"] = sw_dist"
   ]
  },
  {
   "cell_type": "code",
   "execution_count": null,
   "metadata": {},
   "outputs": [],
   "source": [
    "data.head(10)"
   ]
  },
  {
   "cell_type": "code",
   "execution_count": 19,
   "metadata": {},
   "outputs": [
    {
     "name": "stdout",
     "output_type": "stream",
     "text": [
      "Mean: 0.4470653856386173\n",
      "SD:   0.15465851526514757\n"
     ]
    }
   ],
   "source": [
    "print(\"Mean:\", data[\"sw_dist\"].mean())\n",
    "print(\"SD:  \", data[\"sw_dist\"].std())"
   ]
  },
  {
   "cell_type": "code",
   "execution_count": null,
   "metadata": {},
   "outputs": [],
   "source": [
    "data[data[\"subreddit\"] == \"SuicideWatch\"].head(10)"
   ]
  },
  {
   "cell_type": "code",
   "execution_count": 23,
   "metadata": {},
   "outputs": [
    {
     "name": "stdout",
     "output_type": "stream",
     "text": [
      "Mean: 0.7693482507628919\n",
      "SD:   0.06685976453991845\n"
     ]
    }
   ],
   "source": [
    "print(\"Mean:\", data[data[\"subreddit\"] == \"SuicideWatch\"][\"sw_dist\"].mean())\n",
    "print(\"SD:  \", data[data[\"subreddit\"] == \"SuicideWatch\"][\"sw_dist\"].std())"
   ]
  },
  {
   "cell_type": "code",
   "execution_count": null,
   "metadata": {},
   "outputs": [],
   "source": [
    "data[data[\"subreddit\"] == \"depression\"].head(10)"
   ]
  },
  {
   "cell_type": "code",
   "execution_count": 24,
   "metadata": {},
   "outputs": [
    {
     "name": "stdout",
     "output_type": "stream",
     "text": [
      "Mean: 0.7309755063185545\n",
      "SD:   0.07863054724197381\n"
     ]
    }
   ],
   "source": [
    "print(\"Mean:\", data[data[\"subreddit\"] == \"depression\"][\"sw_dist\"].mean())\n",
    "print(\"SD:  \", data[data[\"subreddit\"] == \"depression\"][\"sw_dist\"].std())"
   ]
  },
  {
   "cell_type": "code",
   "execution_count": null,
   "metadata": {},
   "outputs": [],
   "source": [
    "data[data[\"subreddit\"] == \"Anxiety\"].head(10)"
   ]
  },
  {
   "cell_type": "code",
   "execution_count": 25,
   "metadata": {},
   "outputs": [
    {
     "name": "stdout",
     "output_type": "stream",
     "text": [
      "Mean: 0.660965822677549\n",
      "SD:   0.0927849824269911\n"
     ]
    }
   ],
   "source": [
    "print(\"Mean:\", data[data[\"subreddit\"] == \"Anxiety\"][\"sw_dist\"].mean())\n",
    "print(\"SD:  \", data[data[\"subreddit\"] == \"Anxiety\"][\"sw_dist\"].std())"
   ]
  },
  {
   "cell_type": "code",
   "execution_count": 17,
   "metadata": {},
   "outputs": [],
   "source": [
    "# Save updated dataframe with dbow distances\n",
    "data.to_csv(datasource+\"sample_main_50elsm_data_prep_dist.csv\", index=False)"
   ]
  },
  {
   "cell_type": "code",
   "execution_count": 28,
   "metadata": {},
   "outputs": [
    {
     "name": "stdout",
     "output_type": "stream",
     "text": [
      "Estimating similarities to SW's PV...\n",
      "  Timestamp: 08:25:06.103556\n",
      "  0s: Processing line 0 of 1200579...\n",
      "  8s: Processing line 100 of 1200579...\n",
      "  67s: Processing line 1000 of 1200579...\n",
      "  647s: Processing line 10000 of 1200579...\n",
      "  6756s: Processing line 100000 of 1200579...\n",
      "  13714s: Processing line 200000 of 1200579...\n",
      "  20821s: Processing line 300000 of 1200579...\n",
      "  27852s: Processing line 400000 of 1200579...\n",
      "  35128s: Processing line 500000 of 1200579...\n",
      "  42417s: Processing line 600000 of 1200579...\n",
      "  49762s: Processing line 700000 of 1200579...\n",
      "  57019s: Processing line 800000 of 1200579...\n",
      "  64329s: Processing line 900000 of 1200579...\n",
      "  71490s: Processing line 1000000 of 1200579...\n",
      "  78317s: Processing line 1100000 of 1200579...\n",
      "  84676s: Processing line 1200000 of 1200579...\n",
      "Finished estimating similarities to SW\n",
      "  Timestamp: 07:57:01.538271\n",
      "CPU times: user 23h 30min 42s, sys: 3.67 s, total: 23h 30min 46s\n",
      "Wall time: 23h 31min 55s\n"
     ]
    }
   ],
   "source": [
    "%%time\n",
    "# Get the dmm similarities for each submission\n",
    "sw_dist_dmm = list(get_sw_sim(data, \"SuicideWatch\", model_dmm))"
   ]
  },
  {
   "cell_type": "code",
   "execution_count": 29,
   "metadata": {},
   "outputs": [],
   "source": [
    "# Add the dmm similarities to the dataframe\n",
    "data[\"sw_dist_dmm\"] = sw_dist_dmm"
   ]
  },
  {
   "cell_type": "code",
   "execution_count": null,
   "metadata": {},
   "outputs": [],
   "source": [
    "data.head(10)"
   ]
  },
  {
   "cell_type": "code",
   "execution_count": 32,
   "metadata": {},
   "outputs": [
    {
     "name": "stdout",
     "output_type": "stream",
     "text": [
      "Mean: 0.3980487593368509\n",
      "SD:   0.08869275349518795\n"
     ]
    }
   ],
   "source": [
    "print(\"Mean:\", data[\"sw_dist_dmm\"].mean())\n",
    "print(\"SD:  \", data[\"sw_dist_dmm\"].std())"
   ]
  },
  {
   "cell_type": "code",
   "execution_count": null,
   "metadata": {},
   "outputs": [],
   "source": [
    "data[data[\"subreddit\"] == \"SuicideWatch\"].head(10)"
   ]
  },
  {
   "cell_type": "code",
   "execution_count": 34,
   "metadata": {},
   "outputs": [
    {
     "name": "stdout",
     "output_type": "stream",
     "text": [
      "Mean: 0.49487932934021917\n",
      "SD:   0.057227256534392035\n"
     ]
    }
   ],
   "source": [
    "print(\"Mean:\", data[data[\"subreddit\"] == \"SuicideWatch\"][\"sw_dist_dmm\"].mean())\n",
    "print(\"SD:  \", data[data[\"subreddit\"] == \"SuicideWatch\"][\"sw_dist_dmm\"].std())"
   ]
  },
  {
   "cell_type": "code",
   "execution_count": null,
   "metadata": {},
   "outputs": [],
   "source": [
    "data[data[\"subreddit\"] == \"depression\"].head(10)"
   ]
  },
  {
   "cell_type": "code",
   "execution_count": 36,
   "metadata": {},
   "outputs": [
    {
     "name": "stdout",
     "output_type": "stream",
     "text": [
      "Mean: 0.48059888200494016\n",
      "SD:   0.051679910625173\n"
     ]
    }
   ],
   "source": [
    "print(\"Mean:\", data[data[\"subreddit\"] == \"depression\"][\"sw_dist_dmm\"].mean())\n",
    "print(\"SD:  \", data[data[\"subreddit\"] == \"depression\"][\"sw_dist_dmm\"].std())"
   ]
  },
  {
   "cell_type": "code",
   "execution_count": null,
   "metadata": {},
   "outputs": [],
   "source": [
    "data[data[\"subreddit\"] == \"Anxiety\"].head(10)"
   ]
  },
  {
   "cell_type": "code",
   "execution_count": 38,
   "metadata": {},
   "outputs": [
    {
     "name": "stdout",
     "output_type": "stream",
     "text": [
      "Mean: 0.46543419159674543\n",
      "SD:   0.04707352189266531\n"
     ]
    }
   ],
   "source": [
    "print(\"Mean:\", data[data[\"subreddit\"] == \"Anxiety\"][\"sw_dist_dmm\"].mean())\n",
    "print(\"SD:  \", data[data[\"subreddit\"] == \"Anxiety\"][\"sw_dist_dmm\"].std())"
   ]
  },
  {
   "cell_type": "code",
   "execution_count": 31,
   "metadata": {},
   "outputs": [],
   "source": [
    "# Save updated dataframe with dbow distances\n",
    "data.to_csv(datasource+\"sample_main_50elsm_data_prep_dist.csv\", index=False)"
   ]
  },
  {
   "cell_type": "code",
   "execution_count": null,
   "metadata": {},
   "outputs": [],
   "source": []
  }
 ],
 "metadata": {
  "kernelspec": {
   "display_name": "Python 3",
   "language": "python",
   "name": "python3"
  },
  "language_info": {
   "codemirror_mode": {
    "name": "ipython",
    "version": 3
   },
   "file_extension": ".py",
   "mimetype": "text/x-python",
   "name": "python",
   "nbconvert_exporter": "python",
   "pygments_lexer": "ipython3",
   "version": "3.6.9"
  }
 },
 "nbformat": 4,
 "nbformat_minor": 4
}
